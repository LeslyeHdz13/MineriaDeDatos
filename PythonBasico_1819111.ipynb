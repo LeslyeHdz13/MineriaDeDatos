{
 "cells": [
  {
   "cell_type": "code",
   "execution_count": 1,
   "metadata": {},
   "outputs": [],
   "source": [
    "##Programa 1 Hola mundo"
   ]
  },
  {
   "cell_type": "code",
   "execution_count": 1,
   "metadata": {},
   "outputs": [
    {
     "name": "stdout",
     "output_type": "stream",
     "text": [
      "Hola mundo!!\n"
     ]
    }
   ],
   "source": [
    "print(\"Hola mundo!!\")"
   ]
  },
  {
   "cell_type": "markdown",
   "metadata": {},
   "source": [
    "### Ejercicio 1: Realiza una variable con tu matricula y realiza una secuencia de imprimir con tu nombre y tu matricula concatenados.\""
   ]
  },
  {
   "cell_type": "code",
   "execution_count": 2,
   "metadata": {},
   "outputs": [
    {
     "data": {
      "text/plain": [
       "'Leslye Marisol Hernández Bolaños 1819111'"
      ]
     },
     "execution_count": 2,
     "metadata": {},
     "output_type": "execute_result"
    }
   ],
   "source": [
    "matricula = 1819111\n",
    "mat=str(matricula)\n",
    "nom= \"Leslye Marisol Hernández Bolaños \"\n",
    "nom + mat"
   ]
  },
  {
   "cell_type": "markdown",
   "metadata": {},
   "source": [
    "Programa 2: Matemáticas sencillas"
   ]
  },
  {
   "cell_type": "code",
   "execution_count": null,
   "metadata": {},
   "outputs": [],
   "source": [
    "a = 10\n",
    "b = 54\n",
    "\n",
    "c = a + b**2\n",
    "print (a, b, c)"
   ]
  },
  {
   "cell_type": "markdown",
   "metadata": {},
   "source": [
    "imput del usuario"
   ]
  },
  {
   "cell_type": "code",
   "execution_count": null,
   "metadata": {},
   "outputs": [],
   "source": [
    "a1 = int(input(\"Introduce un número:\" ))\n",
    "b1 = int(input(\"Introduce otro número: \"))\n",
    "\n",
    "print (\"Primer número: \", a1)\n",
    "print(\"Segundo número: \", b1)"
   ]
  },
  {
   "cell_type": "markdown",
   "metadata": {},
   "source": [
    "### Ejercicio 2: Pidiendo el input del usuario pide dos números y crea una pequeña calculadora con los operadores básicos de suma, resta, multiplicación, división, y exponente."
   ]
  },
  {
   "cell_type": "code",
   "execution_count": 8,
   "metadata": {},
   "outputs": [
    {
     "name": "stdout",
     "output_type": "stream",
     "text": [
      "Escribe un numero : 4\n",
      "\n",
      "Escribe un numero : 2\n",
      "\n",
      "-----Elige una opción-------\n",
      "0. SALIR\n",
      "1. SUMA\n",
      "2. RESTA\n",
      "3. MULTIPLICACIÓN\n",
      "4. DIVISÓN\n",
      "5. POTENCIA\n",
      "¿Que operación desea realizar? : 5\n",
      "\n",
      "El resultado de   4.0 ^ 2.0  es =  16.0\n",
      "Presione 0 para salir u otro numero para continuar: 0\n"
     ]
    }
   ],
   "source": [
    "resp=1\n",
    "a = float(input(\"Escribe un numero : \"))\n",
    "print()\n",
    "b = float(input(\"Escribe un numero : \"))\n",
    "while resp != 0:\n",
    " print()\n",
    " print(\"-----Elige una opción-------\") \n",
    " print(\"0. SALIR\")\n",
    " print(\"1. SUMA\")\n",
    " print(\"2. RESTA\")\n",
    " print(\"3. MULTIPLICACIÓN\")\n",
    " print(\"4. DIVISÓN\")\n",
    " print(\"5. POTENCIA\")\n",
    " print(\"----------------------------\") \n",
    " resp = int(input(\"¿Que operación desea realizar? : \"))\n",
    " print()\n",
    "    \n",
    " if( (resp != 0 ) and (resp != 1 ) and (resp != 2 ) and (resp != 3 ) and (resp != 4 )and (resp != 5 )):\n",
    "    print(\"Opcion Incorrecta \")\n",
    " else:\n",
    "    if (resp == 1): \n",
    "        print(\"La suma de \", a,\"+\",b, \" es =\", a+b )\n",
    "    elif(resp==2): \n",
    "        print(\"La resta de \", a,\"-\",b, \" es = \", a-b )\n",
    "    elif(resp==3):\n",
    "        print(\"La multiplicación de \", a,\"*\",b, \" es = \", a*b )\n",
    "    elif(resp== 4):\n",
    "        print(\"La división de \", a,\"/\",b, \" es = \", a/b )\n",
    "    elif(resp== 5):\n",
    "        print(\"El resultado de  \", a,\"^\",b, \" es = \", a**b )\n",
    "    else: \n",
    "        print(\"Opción incorrecta\")\n",
    "        break\n",
    "    resp = int(input(\"Presione 0 para salir u otro numero para continuar: \"))    "
   ]
  },
  {
   "cell_type": "markdown",
   "metadata": {},
   "source": [
    "Utilizando el loop de while"
   ]
  },
  {
   "cell_type": "code",
   "execution_count": 9,
   "metadata": {},
   "outputs": [
    {
     "name": "stdout",
     "output_type": "stream",
     "text": [
      "1\n",
      "2\n",
      "3\n",
      "4\n",
      "5\n",
      "6\n",
      "7\n",
      "8\n",
      "9\n",
      "10\n"
     ]
    }
   ],
   "source": [
    "i=1\n",
    "while i <= 10:\n",
    "    print (i)\n",
    "    i=i+1\n",
    "    \n",
    "#i =+1"
   ]
  },
  {
   "cell_type": "markdown",
   "metadata": {},
   "source": [
    "\n",
    "Utilizando la función de range:"
   ]
  },
  {
   "cell_type": "code",
   "execution_count": null,
   "metadata": {},
   "outputs": [],
   "source": [
    "print (\"range(10) --> \", list(range(10)))\n",
    "print (\"range(0,20) --> \", list(range(0,20)))\n",
    "print (\"range(10,20) --> \", list(range(10,20)))\n",
    "print (\"range(0,20,2) --> \", list(range(0,20,2)))\n",
    "print (\"range(-10,-20,2) --> \", list(range(-10,-20,2)))\n",
    "print (\"range(-10,-20,-2) --> \", list(range(-10,-20,-2)))"
   ]
  },
  {
   "cell_type": "markdown",
   "metadata": {},
   "source": [
    "Utilizando la función de range en el loop de for:"
   ]
  },
  {
   "cell_type": "code",
   "execution_count": 11,
   "metadata": {},
   "outputs": [
    {
     "name": "stdout",
     "output_type": "stream",
     "text": [
      "0\n",
      "1\n",
      "2\n",
      "3\n",
      "4\n",
      "5\n",
      "6\n",
      "7\n",
      "8\n",
      "9\n"
     ]
    }
   ],
   "source": [
    "for i in range(0,10):\n",
    "    print (i)"
   ]
  },
  {
   "cell_type": "code",
   "execution_count": 10,
   "metadata": {},
   "outputs": [
    {
     "name": "stdout",
     "output_type": "stream",
     "text": [
      "5  *  1  =  5\n",
      "5  *  2  =  10\n",
      "5  *  3  =  15\n",
      "5  *  4  =  20\n",
      "5  *  5  =  25\n",
      "5  *  6  =  30\n",
      "5  *  7  =  35\n",
      "5  *  8  =  40\n",
      "5  *  9  =  45\n",
      "5  *  10  =  50\n"
     ]
    }
   ],
   "source": [
    "for i in range(1,11):\n",
    "    print (5,\" * \", i , \" = \", i * 5)"
   ]
  },
  {
   "cell_type": "markdown",
   "metadata": {},
   "source": [
    "### Ejercicio 3:Con loop while o for, realiza una lista de 10 numeros multiplos de 3, y después realiza una función de loop que sume todos los números dentro del arreglo."
   ]
  },
  {
   "cell_type": "code",
   "execution_count": 8,
   "metadata": {},
   "outputs": [
    {
     "name": "stdout",
     "output_type": "stream",
     "text": [
      "La suma de [75, 87, 93, 69, 99, 9, 75, 21, 15, 51] es  543\n"
     ]
    }
   ],
   "source": [
    "import random\n",
    "j=0\n",
    " \n",
    "ar = [0,0,0,0,0,0,0,0,0,0]\n",
    "while (j < len(ar) ):\n",
    "   nal=random.randint(0, 100)\n",
    "   if(((-1)**(nal)) == -1):\n",
    "       if(nal%3 == 0):\n",
    "           ar[j] = nal\n",
    "           j=j+1\n",
    "sumArreglo=0       \n",
    "for i in range (1,len(ar)):\n",
    "    m=i-1\n",
    "    sumArreglo=sumArreglo+ar[m]\n",
    "\n",
    "print(\"La suma de\",ar, \"es \", sumArreglo)\n"
   ]
  },
  {
   "cell_type": "code",
   "execution_count": 9,
   "metadata": {},
   "outputs": [
    {
     "name": "stdout",
     "output_type": "stream",
     "text": [
      "Introduce primer número: 2\n",
      "Introduce segundo número: 1\n",
      "2  >  1\n"
     ]
    }
   ],
   "source": [
    "a = int(input(\"Introduce primer número: \"))\n",
    "b = int(input(\"Introduce segundo número: \"))\n",
    "if  a > b: \n",
    "    print (a,\" > \",b)\n",
    "else:\n",
    "    print (a,\" < \",b)"
   ]
  },
  {
   "cell_type": "markdown",
   "metadata": {},
   "source": [
    "### Ejercicio 4: Con una función de if else, revisar si un número es par o es impar. Con una función de if else, revisar si un número es primo o no.\n"
   ]
  },
  {
   "cell_type": "code",
   "execution_count": 13,
   "metadata": {},
   "outputs": [
    {
     "name": "stdout",
     "output_type": "stream",
     "text": [
      "Introduce un número: 9\n",
      "El número  9  es impar. \n",
      "El número  9  no es primo. \n"
     ]
    }
   ],
   "source": [
    "\n",
    "n = int(input(\"Introduce un número: \"))\n",
    "\n",
    "if(((-1)**(n)) == -1):\n",
    "    print(\"El número \", n, \" es impar. \")\n",
    "else: \n",
    "    print(\"El número \", n, \" es par. \")\n",
    "\n",
    "numdivisores=0 \n",
    "for x in range(1,n+1):\n",
    "    if ( n%x == 0  ):\n",
    "        numdivisores=numdivisores+1\n",
    "if(numdivisores==1 or numdivisores==2):\n",
    "    print(\"El número \", n, \"  es primo. \")     \n",
    "else:\n",
    "    print(\"El número \", n, \" no es primo. \")"
   ]
  },
  {
   "cell_type": "markdown",
   "metadata": {},
   "source": [
    "Uso de funciones en python\n"
   ]
  },
  {
   "cell_type": "code",
   "execution_count": 14,
   "metadata": {},
   "outputs": [
    {
     "name": "stdout",
     "output_type": "stream",
     "text": [
      "Suma(10,20) --> 30\n",
      "Suma(20,50) --> -30\n",
      "Suma(80,200) --> 100.7\n"
     ]
    }
   ],
   "source": [
    "def Suma(a,b):\n",
    "    c=a+b\n",
    "    return c\n",
    "\n",
    "print (\"Suma(10,20) -->\", Suma(10,20))\n",
    "print (\"Suma(20,50) -->\", Suma(20,-50)) \n",
    "print (\"Suma(80,200) -->\", Suma(80,20.7))"
   ]
  },
  {
   "cell_type": "markdown",
   "metadata": {},
   "source": [
    "### Ejercicio 5 Utilizando diferentes clases en python, crea una calculadora con los operadores básicos de suma, resta, multiplicación, división, y exponente. Funciones matemáticas en la librería de math en python:"
   ]
  },
  {
   "cell_type": "code",
   "execution_count": 19,
   "metadata": {},
   "outputs": [
    {
     "name": "stdout",
     "output_type": "stream",
     "text": [
      "Introduce primer número: 2\n",
      "Introduce segundo número: 4\n",
      "\n",
      "-----Elige una opción-------\n",
      "0. SALIR\n",
      "1. SUMA\n",
      "2. RESTA\n",
      "3. MULTIPLICACIÓN\n",
      "4. DIVISÓN\n",
      "5. POTENCIA\n",
      "----------------------------\n",
      "¿Que operación desea realizar? : 5\n",
      "\n",
      "La operación es  2 ^ 4  = 16\n",
      "Presione 0 para salir u otro numero para continuar: 1\n",
      "\n",
      "-----Elige una opción-------\n",
      "0. SALIR\n",
      "1. SUMA\n",
      "2. RESTA\n",
      "3. MULTIPLICACIÓN\n",
      "4. DIVISÓN\n",
      "5. POTENCIA\n",
      "----------------------------\n",
      "¿Que operación desea realizar? : 3\n",
      "\n",
      "La operación es  2 x 4  = 8\n",
      "Presione 0 para salir u otro numero para continuar: 1\n",
      "\n",
      "-----Elige una opción-------\n",
      "0. SALIR\n",
      "1. SUMA\n",
      "2. RESTA\n",
      "3. MULTIPLICACIÓN\n",
      "4. DIVISÓN\n",
      "5. POTENCIA\n",
      "----------------------------\n",
      "¿Que operación desea realizar? : 1\n",
      "\n",
      "La operación es  2 + 4  = 6\n",
      "Presione 0 para salir u otro numero para continuar: 1\n",
      "\n",
      "-----Elige una opción-------\n",
      "0. SALIR\n",
      "1. SUMA\n",
      "2. RESTA\n",
      "3. MULTIPLICACIÓN\n",
      "4. DIVISÓN\n",
      "5. POTENCIA\n",
      "----------------------------\n",
      "¿Que operación desea realizar? : 4\n",
      "\n",
      "La operación es  2 / 4  = 0.5\n",
      "Presione 0 para salir u otro numero para continuar: 0\n"
     ]
    }
   ],
   "source": [
    "resp=1\n",
    "def suma(a,b):\n",
    " c=a+b\n",
    " return (print(\"La operación es \", a,\"+\",b, \" =\", c ))\n",
    "def resta(a,b):\n",
    "    c=a-b\n",
    "    return(print(\"La operación es \", a,\"-\",b, \" =\", c ))\n",
    "def multiplicacion (a,b):\n",
    "    c=(a*b)\n",
    "    return (print(\"La operación es \", a,\"x\",b, \" =\", c ))\n",
    "def division (a,b):\n",
    "    c=a/b\n",
    "    return (print(\"La operación es \", a,\"/\",b, \" =\", c ))\n",
    "def potencia (a,b):\n",
    "    c=a**b\n",
    "    return(print(\"La operación es \", a,\"^\",b, \" =\", c ))\n",
    "a = int(input(\"Introduce primer número: \"))\n",
    "b = int(input(\"Introduce segundo número: \"))\n",
    "while resp != 0:\n",
    " print()\n",
    " print(\"-----Elige una opción-------\") \n",
    " print(\"0. SALIR\")\n",
    " print(\"1. SUMA\")\n",
    " print(\"2. RESTA\")\n",
    " print(\"3. MULTIPLICACIÓN\")\n",
    " print(\"4. DIVISÓN\")\n",
    " print(\"5. POTENCIA\")\n",
    " print(\"----------------------------\") \n",
    " resp = int(input(\"¿Que operación desea realizar? : \"))\n",
    " print()\n",
    "    \n",
    " if( (resp != 0 ) and (resp != 1 ) and (resp != 2 ) and (resp != 3 ) and (resp != 4 )and (resp != 5 )):\n",
    "    print(\"Opcion Incorrecta \")\n",
    " else:\n",
    "    if (resp == 1): \n",
    "        suma(a,b)\n",
    "    elif(resp==2): \n",
    "        resta(a,b)\n",
    "    elif(resp==3):\n",
    "        multiplicacion(a,b)\n",
    "    elif(resp== 4):\n",
    "        division(a,b)\n",
    "    elif(resp== 5):\n",
    "        potencia(a,b)\n",
    "    else: \n",
    "        print(\"Opción incorrecta\")\n",
    "        break\n",
    "    resp = int(input(\"Presione 0 para salir u otro numero para continuar: \")) "
   ]
  },
  {
   "cell_type": "markdown",
   "metadata": {},
   "source": [
    "Funciones matemáticas en la librería de math en python:"
   ]
  },
  {
   "cell_type": "code",
   "execution_count": 20,
   "metadata": {},
   "outputs": [
    {
     "name": "stdout",
     "output_type": "stream",
     "text": [
      "Función exponencial -->  1.3838965267367376e-87\n",
      "Log -->  6.643856189774725\n",
      "Log  -->  2.0\n",
      "Log 10 -->  2.0\n",
      "Coseno -->  0.15425144988758405\n",
      "Seno -->  -0.9880316240928618\n",
      "Tangente -->  -6.405331196646276\n",
      "Raiz cuadrada -->  18.0\n",
      "Valor techo -->  90\n",
      "Valor piso -->  89\n"
     ]
    }
   ],
   "source": [
    "import math as m\n",
    "\n",
    "print (\"Función exponencial --> \", m.exp(-200))  \n",
    "print (\"Log --> \", m.log(100,2)) # Log\n",
    "print (\"Log  --> \", m.log(100,10))# Log\n",
    "print (\"Log 10 --> \", m.log10(100)) # Log 10\n",
    "print (\"Coseno --> \", m.cos(30))    # cos\n",
    "print (\"Seno --> \", m.sin(30))    # sin\n",
    "print (\"Tangente --> \", m.tan(30))    # tan\n",
    "print (\"Raiz cuadrada --> \", m.sqrt(324)) #Raiz\n",
    "print (\"Valor techo --> \", m.ceil(89.9)) #Valor techo\n",
    "print (\"Valor piso --> \", m.floor(89.9)) #Valor piso"
   ]
  },
  {
   "cell_type": "markdown",
   "metadata": {},
   "source": [
    "Como utilizar variables de string como listas para buscar elementos:"
   ]
  },
  {
   "cell_type": "code",
   "execution_count": 21,
   "metadata": {},
   "outputs": [
    {
     "name": "stdout",
     "output_type": "stream",
     "text": [
      "var1 -->  Hola mundo!\n",
      "var2 -->  Programas de python\n",
      "var1[0] -->  H\n",
      "var2[1:5] -->  rogr\n",
      "var2[:-5] -->  Programas de p\n"
     ]
    }
   ],
   "source": [
    "var1 = 'Hola mundo!'\n",
    "var2 = \"Programas de python\"\n",
    " \n",
    "print (\"var1 --> \", var1)\n",
    "print (\"var2 --> \",var2)\n",
    "print (\"var1[0] --> \", var1[0])\n",
    "print (\"var2[1:5] --> \", var2[1:5])\n",
    "print (\"var2[:-5] --> \", var2[:-5])"
   ]
  },
  {
   "cell_type": "code",
   "execution_count": 22,
   "metadata": {},
   "outputs": [
    {
     "name": "stdout",
     "output_type": "stream",
     "text": [
      "var1 -->  Hola mundo!\n",
      "var2 -->  Programas de python\n",
      "\n",
      "Tamaño de var1 --> :  11\n",
      "Tamaño de var2 --> :  19\n",
      "\n",
      "Uppercase para var1 --> :  HOLA MUNDO!\n",
      "Upper case para var2 --> :  PROGRAMAS DE PYTHON\n",
      "\n",
      "Lower case para var1 --> :  hola mundo!\n",
      "Lower case para var2 --> :  programas de python\n"
     ]
    }
   ],
   "source": [
    "\n",
    "var1 = 'Hola mundo!'\n",
    "var2 = \"Programas de python\"\n",
    "\n",
    "print (\"var1 --> \", var1)\n",
    "print (\"var2 --> \",var2)\n",
    "\n",
    "print (\"\\nTamaño de var1 --> : \", len(var1))\n",
    "print (\"Tamaño de var2 --> : \", len(var2))\n",
    "\n",
    "print (\"\\nUppercase para var1 --> : \", var1.upper())\n",
    "print (\"Upper case para var2 --> : \", var2.upper())\n",
    "\n",
    "print (\"\\nLower case para var1 --> : \", var1.lower())\n",
    "print (\"Lower case para var2 --> : \", var2.lower())"
   ]
  },
  {
   "cell_type": "markdown",
   "metadata": {},
   "source": [
    "Con input del usuario, revisar como introducir valores de numeros, letras y flotantes dentro de un print:"
   ]
  },
  {
   "cell_type": "code",
   "execution_count": 24,
   "metadata": {},
   "outputs": [
    {
     "name": "stdout",
     "output_type": "stream",
     "text": [
      "Introduce tu nombre: Leslye Marisol Hernández Bolaños \n",
      "Introduce tu edad: 20\n",
      "Precio de tu item: 200\n",
      "Tu nombre es LESLYE MARISOL HERNÁNDEZ BOLAÑOS , edad es 20 y el precio de tu item es $ 200.000000\n"
     ]
    }
   ],
   "source": [
    "name=input(\"Introduce tu nombre: \")\n",
    "age=int(input(\"Introduce tu edad: \"))\n",
    "price=float(input(\"Precio de tu item: \"))\n",
    "s=\"Tu nombre es %s, edad es %d y el precio de tu item es $ %f\" %(name.upper(),age,price)\n",
    "print (s)"
   ]
  },
  {
   "cell_type": "markdown",
   "metadata": {},
   "source": [
    "Introducción para el manejo de errores en Python:"
   ]
  },
  {
   "cell_type": "code",
   "execution_count": 25,
   "metadata": {},
   "outputs": [
    {
     "name": "stdout",
     "output_type": "stream",
     "text": [
      "100/ -5  -->  -20.0\n",
      "100/ -4  -->  -25.0\n",
      "100/ -3  -->  -33.333333333333336\n",
      "100/ -2  -->  -50.0\n",
      "100/ -1  -->  -100.0\n"
     ]
    },
    {
     "ename": "ZeroDivisionError",
     "evalue": "division by zero",
     "output_type": "error",
     "traceback": [
      "\u001b[1;31m---------------------------------------------------------------------------\u001b[0m",
      "\u001b[1;31mZeroDivisionError\u001b[0m                         Traceback (most recent call last)",
      "\u001b[1;32m<ipython-input-25-62296f2c0744>\u001b[0m in \u001b[0;36m<module>\u001b[1;34m\u001b[0m\n\u001b[0;32m      1\u001b[0m \u001b[1;32mfor\u001b[0m \u001b[0mi\u001b[0m \u001b[1;32min\u001b[0m \u001b[0mrange\u001b[0m\u001b[1;33m(\u001b[0m\u001b[1;33m-\u001b[0m\u001b[1;36m5\u001b[0m\u001b[1;33m,\u001b[0m\u001b[1;36m6\u001b[0m\u001b[1;33m)\u001b[0m\u001b[1;33m:\u001b[0m\u001b[1;33m\u001b[0m\u001b[1;33m\u001b[0m\u001b[0m\n\u001b[1;32m----> 2\u001b[1;33m     \u001b[0mprint\u001b[0m \u001b[1;33m(\u001b[0m\u001b[1;34m\"100/\"\u001b[0m\u001b[1;33m,\u001b[0m\u001b[0mi\u001b[0m\u001b[1;33m,\u001b[0m\u001b[1;34m\" --> \"\u001b[0m\u001b[1;33m,\u001b[0m \u001b[1;36m100\u001b[0m\u001b[1;33m/\u001b[0m\u001b[0mi\u001b[0m\u001b[1;33m)\u001b[0m\u001b[1;33m\u001b[0m\u001b[1;33m\u001b[0m\u001b[0m\n\u001b[0m",
      "\u001b[1;31mZeroDivisionError\u001b[0m: division by zero"
     ]
    }
   ],
   "source": [
    "for i in range(-5,6):\n",
    "    print (\"100/\",i,\" --> \", 100/i)"
   ]
  },
  {
   "cell_type": "code",
   "execution_count": 26,
   "metadata": {},
   "outputs": [
    {
     "name": "stdout",
     "output_type": "stream",
     "text": [
      "100/ -5  -->  -20.0\n",
      "100/ -4  -->  -25.0\n",
      "100/ -3  -->  -33.333333333333336\n",
      "100/ -2  -->  -50.0\n",
      "100/ -1  -->  -100.0\n",
      "error\n",
      "100/ 1  -->  100.0\n",
      "100/ 2  -->  50.0\n",
      "100/ 3  -->  33.333333333333336\n",
      "100/ 4  -->  25.0\n",
      "100/ 5  -->  20.0\n"
     ]
    }
   ],
   "source": [
    "\n",
    "for i in range(-5,6):\n",
    "    try:\n",
    "        print (\"100/\",i,\" --> \", 100/i)\n",
    "    except:\n",
    "        print (\"error\")"
   ]
  },
  {
   "cell_type": "code",
   "execution_count": 27,
   "metadata": {},
   "outputs": [
    {
     "name": "stdout",
     "output_type": "stream",
     "text": [
      "Introduce el nombre del archivo: Python\n"
     ]
    },
    {
     "ename": "FileNotFoundError",
     "evalue": "[Errno 2] No such file or directory: 'Python'",
     "output_type": "error",
     "traceback": [
      "\u001b[1;31m---------------------------------------------------------------------------\u001b[0m",
      "\u001b[1;31mFileNotFoundError\u001b[0m                         Traceback (most recent call last)",
      "\u001b[1;32m<ipython-input-27-0516b617e37f>\u001b[0m in \u001b[0;36m<module>\u001b[1;34m\u001b[0m\n\u001b[0;32m      1\u001b[0m \u001b[0marchivo\u001b[0m\u001b[1;33m=\u001b[0m\u001b[0minput\u001b[0m\u001b[1;33m(\u001b[0m\u001b[1;34m\"Introduce el nombre del archivo: \"\u001b[0m\u001b[1;33m)\u001b[0m\u001b[1;33m\u001b[0m\u001b[1;33m\u001b[0m\u001b[0m\n\u001b[1;32m----> 2\u001b[1;33m \u001b[0mfp\u001b[0m\u001b[1;33m=\u001b[0m\u001b[0mopen\u001b[0m\u001b[1;33m(\u001b[0m\u001b[0marchivo\u001b[0m\u001b[1;33m)\u001b[0m\u001b[1;33m\u001b[0m\u001b[1;33m\u001b[0m\u001b[0m\n\u001b[0m\u001b[0;32m      3\u001b[0m \u001b[0mfp\u001b[0m\u001b[1;33m.\u001b[0m\u001b[0mclose\u001b[0m\u001b[1;33m(\u001b[0m\u001b[1;33m)\u001b[0m\u001b[1;33m\u001b[0m\u001b[1;33m\u001b[0m\u001b[0m\n\u001b[0;32m      4\u001b[0m \u001b[0mprint\u001b[0m \u001b[1;33m(\u001b[0m\u001b[1;34m\"Terminado\"\u001b[0m\u001b[1;33m)\u001b[0m\u001b[1;33m\u001b[0m\u001b[1;33m\u001b[0m\u001b[0m\n",
      "\u001b[1;31mFileNotFoundError\u001b[0m: [Errno 2] No such file or directory: 'Python'"
     ]
    }
   ],
   "source": [
    "\n",
    "archivo=input(\"Introduce el nombre del archivo: \")\n",
    "fp=open(archivo)\n",
    "fp.close()\n",
    "print (\"Terminado\")"
   ]
  },
  {
   "cell_type": "code",
   "execution_count": 28,
   "metadata": {},
   "outputs": [
    {
     "name": "stdout",
     "output_type": "stream",
     "text": [
      "Introduce el nombre del archivo: PythonEjemplo1\n",
      "Error !! Archivo no encontrado\n",
      "Terminado\n"
     ]
    }
   ],
   "source": [
    "archivo=input(\"Introduce el nombre del archivo: \")\n",
    "try:\n",
    "    fp=open(archivo)\n",
    "    fp.close()\n",
    "except:\n",
    "    print (\"Error !! Archivo no encontrado\")\n",
    "\n",
    "print (\"Terminado\")"
   ]
  },
  {
   "cell_type": "code",
   "execution_count": 29,
   "metadata": {},
   "outputs": [
    {
     "name": "stdout",
     "output_type": "stream",
     "text": [
      "0  -->  1\n",
      "1  -->  2\n",
      "2  -->  3\n",
      "3  -->  4\n",
      "4  -->  5\n",
      "error\n",
      "error\n",
      "error\n"
     ]
    },
    {
     "data": {
      "text/plain": [
       "5"
      ]
     },
     "execution_count": 29,
     "metadata": {},
     "output_type": "execute_result"
    }
   ],
   "source": [
    "lista1 = [1,2,3,4,5]\n",
    "\n",
    "for i in range(8):\n",
    "    try:\n",
    "        print (i,\" --> \", lista1[i])\n",
    "    except:\n",
    "        print (\"error\")\n",
    "\n",
    "    \n",
    "len(lista1)"
   ]
  },
  {
   "cell_type": "code",
   "execution_count": 30,
   "metadata": {},
   "outputs": [
    {
     "name": "stdout",
     "output_type": "stream",
     "text": [
      "0 --> 1\n",
      "1 --> 2\n",
      "2 --> 3\n",
      "3 --> 4\n",
      "4 --> 5\n",
      "5 --> 6\n",
      "6 --> 7\n"
     ]
    }
   ],
   "source": [
    "lista1 = [1, 2, 3, 4, 5, 6, 7]\n",
    "\n",
    "for i in range(len(lista1)):\n",
    "    try:\n",
    "        print(i, \"-->\", lista1[i])\n",
    "    except:\n",
    "        print(\"Error\")"
   ]
  },
  {
   "cell_type": "markdown",
   "metadata": {},
   "source": [
    "## Ejercicios con estructuras básicas de python."
   ]
  },
  {
   "cell_type": "code",
   "execution_count": 59,
   "metadata": {},
   "outputs": [
    {
     "name": "stdout",
     "output_type": "stream",
     "text": [
      "La variable varflot es:  <class 'float'>\n",
      "La variable varint es:  <class 'int'>\n",
      "La variable varbol es:  <class 'bool'>\n",
      "La variable varc es:  <class 'complex'>\n",
      "\n",
      "Tupla original (1, 2, 3, 10)\n",
      "Primer valor:  1\n",
      "Último valor:  10\n",
      "\n",
      "Escriba lo que desee añadir: a\n",
      "Escriba lo que desee añadir: b\n",
      "Escriba lo que desee añadir: c\n",
      "Nueva tupla:   (1, 2, 3, 10, 'a', 'b', 'c')\n",
      "\n",
      "Introduzca el número para buscar: 10\n",
      "Elemento encontrado en la posición:  4\n",
      "Tupla:  (1, 2, 3, 10, 'a', 'b', 'c')\n"
     ]
    }
   ],
   "source": [
    "#Crear una variable flotante, integer, boleana y compleja e imprimir el tipo de variable que es.\n",
    "varflot= (14.6)\n",
    "varint = 1\n",
    "varbol= varint>int(varflot)\n",
    "varc = 13 + 12j\n",
    "\n",
    "\n",
    "print(\"La variable varflot es: \", type(varflot))\n",
    "print(\"La variable varint es: \",type(varint))\n",
    "print(\"La variable varbol es: \",type(varbol))\n",
    "print(\"La variable varc es: \",type(varc))\n",
    "\n",
    "#Crear una tupla con valores enteros imprimir el primer y ultimo valor.\n",
    "tupla1=(1,2,3,10)\n",
    "x=tupla1.__len__()\n",
    "print()\n",
    "print(\"Tupla original\", tupla1)\n",
    "print(\"Primer valor: \", tupla1[0])\n",
    "print(\"Último valor: \", tupla1[x-1])\n",
    "\n",
    "#Añadir 3 valores de string a la tupla.\n",
    "print()\n",
    "for i in range (1, 4):\n",
    "    nuevo = (input(\"Escriba lo que desee añadir: \"))\n",
    "    tupla1 = tupla1 +(nuevo,)\n",
    "print(\"Nueva tupla:  \", tupla1)\n",
    "\n",
    "#Verificar si una variable existe dentro de la tupla.\n",
    "print()\n",
    "buscas =int(input(\"Introduzca el número para buscar: \"))\n",
    "for i in range (1,len(tupla1)):\n",
    "    \n",
    "    if ( (buscas) == tupla1[i-1] ):\n",
    "        print(\"Elemento encontrado en la posición: \", i)\n",
    "        print(\"Tupla: \", tupla1)\n",
    "        b=1        \n",
    "if(b!=1): print(\"Elemento no encontrado\")\n"
   ]
  },
  {
   "cell_type": "markdown",
   "metadata": {},
   "source": [
    "### Listas"
   ]
  },
  {
   "cell_type": "code",
   "execution_count": 78,
   "metadata": {},
   "outputs": [
    {
     "name": "stdout",
     "output_type": "stream",
     "text": [
      "Ejercicio 2.0---\n",
      "Lista original de tamaño 40 es: [5, 64, 28, 10, 82, 57, 71, 72, 19, 12, 16, 4, 76, 93, 96, 45, 64, 3, 52, 63, 89, 55, 51, 45, 100, 88, 88, 43, 81, 64, 26, 70, 24, 56, 38, 42, 94, 27, 67, 14]\n",
      "\n",
      "Ejercicio 2.1---\n",
      "Lista par de tamaño 24 es: [14, 64, 28, 10, 82, 72, 12, 16, 4, 76, 96, 64, 52, 100, 88, 88, 64, 26, 70, 24, 56, 38, 42, 94]\n",
      "Lista impar de tamaño 16 es: [5, 57, 71, 19, 93, 45, 3, 63, 89, 55, 51, 45, 43, 81, 27, 67]\n",
      "\n",
      "Ejercicio 2.2---\n",
      "Tamano de par:  24  Tamaño de impar:  16\n",
      "\n",
      "Ejercicio 2.3---\n",
      "Lista par ordenada de mayor a menor:  [100, 96, 94, 88, 88, 82, 76, 72, 70, 64, 64, 64, 56, 52, 42, 38, 28, 26, 24, 16, 14, 12, 10, 4]\n",
      "Lista impar ordenada de menor a mayor:  [3, 5, 19, 27, 43, 45, 45, 51, 55, 57, 63, 67, 71, 81, 89, 93]\n",
      "\n",
      "Ejercicio 2.3---\n",
      "Lista original :  [5, 64, 28, 10, 82, 57, 71, 72, 19, 12, 16, 4, 76, 93, 96, 45, 64, 3, 52, 63, 89, 55, 51, 45, 100, 88, 88, 43, 81, 64, 26, 70, 24, 56, 38, 42, 94, 27, 67, 14]\n",
      "\n",
      "1.- Utilizando la función reverse:  [14, 67, 27, 94, 42, 38, 56, 24, 70, 26, 64, 81, 43, 88, 88, 100, 45, 51, 55, 89, 63, 52, 3, 64, 45, 96, 93, 76, 4, 16, 12, 19, 72, 71, 57, 82, 10, 28, 64, 5]\n",
      "\n",
      "¿De qué numero deseas saber su repetición?: 5\n",
      "2.- El número  5  se repite: 1 veces.\n",
      "\n",
      "3.- Eliminando el ultimo número de la lista con pop: [14, 67, 27, 94, 42, 38, 56, 24, 70, 26, 64, 81, 43, 88, 88, 100, 45, 51, 55, 89, 63, 52, 3, 64, 45, 96, 93, 76, 4, 16, 12, 19, 72, 71, 57, 82, 10, 28, 64]\n",
      "\n",
      "¿qué numero deseas agregar?: 5\n",
      "¿En qué posición?: 39\n",
      "4.- Agregamos en la posición i= 39  el numero x=  5 :  [14, 67, 27, 94, 42, 38, 56, 24, 70, 26, 64, 81, 43, 88, 88, 100, 45, 51, 55, 89, 63, 52, 3, 64, 45, 96, 93, 76, 4, 16, 12, 19, 72, 71, 57, 82, 10, 28, 64, 5]\n"
     ]
    }
   ],
   "source": [
    "#Crear una lista con 40 elementos aleatorios enteros.\n",
    "print(\"Ejercicio 2.0---\")\n",
    "lista1 = []\n",
    "for i in range(1, 41 ): \n",
    "    lista1.append(random.randint(0, 100))\n",
    "\n",
    "#Con una funcion (def) crear dos listas nuevas a partir de la lista creada por numeros aleatorios, en la cual en una esten los elementos pares, y en la otra los elementos impares.\n",
    "def par_impar (a, lp, li):\n",
    "   \n",
    "    for i in range(0, len(a)):\n",
    "        if ((-1 )**a[i-1]) == 1 : \n",
    "            lp.append(a[i-1])\n",
    "        else: \n",
    "            li.append(a[i-1])\n",
    "            \n",
    "    return (lp,li)\n",
    "\n",
    "lista_par=[]\n",
    "lista_impar=[]\n",
    "\n",
    "par_impar(lista1, lista_par, lista_impar)\n",
    "\n",
    "print(\"Lista original de tamaño\",len(lista1),\"es:\", lista1)\n",
    "print()\n",
    "print(\"Ejercicio 2.1---\")\n",
    "print(\"Lista par de tamaño\", len(lista_par), \"es:\",lista_par )\n",
    "print(\"Lista impar de tamaño\",len(lista_impar), \"es:\", lista_impar )\n",
    "\n",
    "#Crear dos variables con la longitud de ambas listas nuevas e imprimir las variables.\n",
    "np=len(lista_par)\n",
    "ni=len(lista_impar)\n",
    "print()\n",
    "print(\"Ejercicio 2.2---\")\n",
    "print(\"Tamano de par: \", np, \" Tamaño de impar: \", ni)\n",
    "#Ordenar los elementos de la lista par de mayor a menor, y los de la lista impar de menor a mayor.\n",
    "print()\n",
    "print(\"Ejercicio 2.3---\")\n",
    "lista_impar.sort()\n",
    "lista_par.sort(reverse= True)\n",
    "print(\"Lista par ordenada de mayor a menor: \" , lista_par)\n",
    "print(\"Lista impar ordenada de menor a mayor: \" ,lista_impar )\n",
    "#Utilizar al menos cuatro de las funciones de listas en python en la lista original de 40 elementos\n",
    "print()\n",
    "print(\"Ejercicio 2.3---\")\n",
    "print(\"Lista original : \", lista1)\n",
    "print()\n",
    "lista1.reverse()\n",
    "print(\"1.- Utilizando la función reverse: \" ,lista1)\n",
    "print()\n",
    "r=int(input(\"¿De qué numero deseas saber su repetición?: \"))\n",
    "print(\"2.- El número \", r,\" se repite:\" , lista1.count(r), \"veces.\")\n",
    "print()\n",
    "lista1.pop()\n",
    "print(\"3.- Eliminando el ultimo número de la lista con pop:\", lista1)\n",
    "print()\n",
    "x=int(input(\"¿qué numero deseas agregar?: \"))\n",
    "i=int(input(\"¿En qué posición?: \"))\n",
    "if (i<=len(lista1)):\n",
    "    lista1.insert(i, x)    \n",
    "    print(\"4.- Agregamos en la posición i=\", i, \" el numero x= \", x,\": \", lista1)\n",
    "else: \n",
    "    print(\"La posición debe estar entre [ 0 ,\",len(lista1),\"]\")"
   ]
  },
  {
   "cell_type": "markdown",
   "metadata": {},
   "source": [
    "### Diccionario"
   ]
  },
  {
   "cell_type": "code",
   "execution_count": 80,
   "metadata": {},
   "outputs": [
    {
     "name": "stdout",
     "output_type": "stream",
     "text": [
      "\n",
      "Ejercicio 3.0---\n",
      "El diccionario creado es : {'nombre1': 'Valeria', 'nombre2': 'Ulises', 'nombre3': 'Perla', 'nombre4': 'Carlos', 'nombre5': 'Jahir', 'edad1': 20, 'edad2': 21, 'edad3': 22, 'edad4': 23, 'edad5': 19}\n",
      "\n",
      "Ejercicio 3.1---\n",
      "[19, 20, 21, 22, 23]\n",
      "\n",
      "Ejercicio 3.2---\n",
      "\n",
      " 1 .-Nombre:  Valeria\n",
      "\n",
      " 2 .-Nombre:  Ulises\n",
      "\n",
      " 3 .-Nombre:  Perla\n",
      "\n",
      " 4 .-Nombre:  Carlos\n",
      "\n",
      " 5 .-Nombre:  Jahir\n",
      "\n",
      "Ejercicio 3.3---\n",
      "Nombre: Ana\n",
      "Edad: 28\n",
      "Nombre: Juan\n",
      "Edad: 39\n",
      "El diccionario actualizado es:  {'nombre1': 'Valeria', 'nombre2': 'Ulises', 'nombre3': 'Perla', 'nombre4': 'Carlos', 'nombre5': 'Jahir', 'edad1': 20, 'edad2': 21, 'edad3': 22, 'edad4': 23, 'edad5': 19, 'nombre6': 'Ana', 'edad6': 28, 'nombre7': 'Juan', 'edad7': 39}\n"
     ]
    }
   ],
   "source": [
    "#Crear un diccionario de 6 personas que conozcas con su primer nombre y su edad.\n",
    "print()\n",
    "print(\"Ejercicio 3.0---\")\n",
    "lista_edad=[]\n",
    "diccionario={\n",
    "    \n",
    "    \"nombre1\": \"Valeria\", \n",
    "    \"nombre2\": \"Ulises\",\n",
    "    \"nombre3\": \"Perla\",\n",
    "    \"nombre4\": \"Carlos\",\n",
    "    \"nombre5\": \"Jahir\",\n",
    "    \"edad1\": 20,\n",
    "    \"edad2\": 21,\n",
    "    \"edad3\": 22,\n",
    "    \"edad4\": 23,\n",
    "    \"edad5\": 19,\n",
    "    }\n",
    "print(\"El diccionario creado es :\", diccionario)\n",
    "#Crear una lista con los valores de la edad y reacomodar la lista de menor a mayor valor\n",
    "print()\n",
    "print(\"Ejercicio 3.1---\")\n",
    "for i in range (1, 6):\n",
    "    lista_edad.append(diccionario[\"edad\" + str(i)]) \n",
    "lista_edad.sort()\n",
    "print(lista_edad)\n",
    "\n",
    "#Usando el diccionario y un loop, imprimir solo los nombres.\n",
    "print()\n",
    "print(\"Ejercicio 3.2---\")\n",
    "for i in range (1, 6):\n",
    "    print(\"\\n\",i,\".-Nombre: \",diccionario[\"nombre\" + str(i)]) \n",
    "\n",
    "\n",
    "#Añadir dos personas nuevas a tu diccionario, incluyendo edad.\n",
    "print()\n",
    "nuevo= []\n",
    "print(\"Ejercicio 3.3---\")\n",
    "for i in range (1, 3):\n",
    "    nom=input(\"Nombre: \")\n",
    "    edad=int(input(\"Edad: \")) \n",
    "    diccionario.setdefault('nombre'+str(i+5),nom)\n",
    "    diccionario.setdefault('edad'+str(i+5),edad)\n",
    "print(\"El diccionario actualizado es: \",diccionario)"
   ]
  },
  {
   "cell_type": "markdown",
   "metadata": {},
   "source": [
    "### Sets"
   ]
  },
  {
   "cell_type": "code",
   "execution_count": 98,
   "metadata": {},
   "outputs": [
    {
     "name": "stdout",
     "output_type": "stream",
     "text": [
      "\n",
      " Ejercicio 4.0---\n",
      "\n",
      "Set creado:  {0, 1, 2, 3, 4, 5, 6, 7, 8, 9, 10, 11, 12, 13, 14, 15, 16, 17, 18, 19, 20, 21, 22, 23, 24, 25, 26, 27, 28, 29, 30, 31, 32, 33, 34, 35, 36, 37, 38, 39, 40, 41, 42, 43, 44, 45, 46, 47, 48, 49, 50, 51, 52, 53, 54, 55, 56, 57, 58, 59, 60, 61, 62, 63, 64, 65, 66, 67, 68, 69, 70, 71, 72, 73, 74, 75, 76, 77, 78, 79, 80, 81, 82, 83, 84, 85, 86, 87, 88, 89, 90, 91, 92, 93, 94, 95, 96, 97, 98, 99}\n",
      "\n",
      "Ejercicio 4.1--- \n",
      "Longitud del set: 100\n",
      "\n",
      "Ejercicio 4.2--- \n",
      "Set creado:  {1, 3, 8, 9, 10} \n",
      "Longitud:  5\n"
     ]
    }
   ],
   "source": [
    "#Crea un set con 100 numeros aleatorios enteros del 1 al 25.\n",
    "print(\"\\n Ejercicio 4.0---\")\n",
    "ultimo = set(range(100))\n",
    "m= 0\n",
    "otro=set()\n",
    "for i in range ( 0 , 100):\n",
    "    ultimo.add(random.randint (1, 25))  \n",
    "             \n",
    "print(\"\\nSet creado: \", ultimo)\n",
    "print(\"\\nEjercicio 4.1--- \\nLongitud del set:\", len(ultimo))\n",
    "\n",
    "\n",
    "\n",
    "#Crea una lista de 5 numeros aleatorios del 1 al 10 y comprueba si cada valor aparece en el set inicial.\n",
    "\n",
    "print(\"\\nEjercicio 4.2--- \")\n",
    "for i in range ( 0 , 5):\n",
    "    otro.add(random.randint (1, 10)) \n",
    "    \n",
    "print(\"Set creado: \", otro, \"\\nLongitud: \", len(otro))"
   ]
  },
  {
   "cell_type": "markdown",
   "metadata": {},
   "source": [
    "url:\n",
    "https://www.w3schools.com\n",
    "\n"
   ]
  },
  {
   "cell_type": "code",
   "execution_count": null,
   "metadata": {},
   "outputs": [],
   "source": []
  }
 ],
 "metadata": {
  "kernelspec": {
   "display_name": "Python 3",
   "language": "python",
   "name": "python3"
  },
  "language_info": {
   "codemirror_mode": {
    "name": "ipython",
    "version": 3
   },
   "file_extension": ".py",
   "mimetype": "text/x-python",
   "name": "python",
   "nbconvert_exporter": "python",
   "pygments_lexer": "ipython3",
   "version": "3.8.3"
  }
 },
 "nbformat": 4,
 "nbformat_minor": 4
}
